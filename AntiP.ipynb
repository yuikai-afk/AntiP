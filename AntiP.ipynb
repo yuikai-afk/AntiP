{
 "cells": [
  {
   "cell_type": "code",
   "execution_count": 61,
   "metadata": {},
   "outputs": [],
   "source": [
    "import requests\n",
    "import docx2txt\n",
    "import re\n",
    "from os import listdir\n",
    "from os.path import isfile, join"
   ]
  },
  {
   "cell_type": "code",
   "execution_count": 82,
   "metadata": {},
   "outputs": [],
   "source": [
    "path = './AntiP/'\n",
    "files = [f for f in listdir(path) if isfile(join(path, f))]"
   ]
  },
  {
   "cell_type": "code",
   "execution_count": 83,
   "metadata": {},
   "outputs": [
    {
     "name": "stdout",
     "output_type": "stream",
     "text": [
      "826 - копия (2).docx\n",
      "14131\n"
     ]
    }
   ],
   "source": [
    "for doc_name in files:\n",
    "    if doc_name.lower().endswith('.docx'):\n",
    "        fulltext = docx2txt.process(path+doc_name)\n",
    "        fulltext = '\\n'.join(fullText)\n",
    "        text = re.sub(r'[a-zA-Z]', '', fulltext)[0:15000]\n",
    "        print(doc_name)\n",
    "        print(len(text))\n",
    "        break"
   ]
  },
  {
   "cell_type": "code",
   "execution_count": 84,
   "metadata": {},
   "outputs": [
    {
     "data": {
      "text/plain": [
       "14131"
      ]
     },
     "execution_count": 84,
     "metadata": {},
     "output_type": "execute_result"
    }
   ],
   "source": [
    "len(text)"
   ]
  },
  {
   "cell_type": "code",
   "execution_count": 78,
   "metadata": {
    "scrolled": true
   },
   "outputs": [],
   "source": [
    "try:\n",
    "    request = {\n",
    "        'key': 'C9tn8XPpkBO8EpG',\n",
    "        #'method':  'get_packages_info',\n",
    "        #'visible': 'vis_on',\n",
    "        'text': text\n",
    "    }\n",
    "    response = requests.post('https://content-watch.ru/public/api/', data = request).json()\n",
    "    #print(response)\n",
    "    # Будет выведено:\n",
    "    # {u'size': 24698146}\n",
    "except requests.exceptions.RequestException as ex:\n",
    "    print('ERROR: %s' % ex)"
   ]
  },
  {
   "cell_type": "code",
   "execution_count": 79,
   "metadata": {},
   "outputs": [
    {
     "name": "stdout",
     "output_type": "stream",
     "text": [
      "Уникальность текста:  27.9 %\n"
     ]
    }
   ],
   "source": [
    "number = response['percent']\n",
    "print('Уникальность текста: ', number, '%')"
   ]
  },
  {
   "cell_type": "code",
   "execution_count": null,
   "metadata": {},
   "outputs": [],
   "source": []
  }
 ],
 "metadata": {
  "kernelspec": {
   "display_name": "Python 3",
   "language": "python",
   "name": "python3"
  },
  "language_info": {
   "codemirror_mode": {
    "name": "ipython",
    "version": 3
   },
   "file_extension": ".py",
   "mimetype": "text/x-python",
   "name": "python",
   "nbconvert_exporter": "python",
   "pygments_lexer": "ipython3",
   "version": "3.7.6"
  }
 },
 "nbformat": 4,
 "nbformat_minor": 2
}
